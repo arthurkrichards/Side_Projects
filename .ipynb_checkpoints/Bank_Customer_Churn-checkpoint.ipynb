{
 "cells": [
  {
   "cell_type": "code",
   "execution_count": 13,
   "id": "076a1a0d-2e7b-4ba6-a750-5142d9d7db26",
   "metadata": {},
   "outputs": [],
   "source": [
    "import pandas as pd\n",
    "import numpy as np\n",
    "import matplotlib as plt\n",
    "import seaborn as sns\n",
    "%matplotlib inline\n",
    "\n",
    "pd.set_option('display.max_rows', None) #Allows for cell to contain maximum number of columns and rows. \n",
    "pd.set_option ('display.max_columns', None)"
   ]
  },
  {
   "cell_type": "code",
   "execution_count": 14,
   "id": "c0c7f1c7-ef8d-49f2-a6d4-46587c5e9491",
   "metadata": {},
   "outputs": [],
   "source": [
    "df_churn = pd.read_csv(r\"/Users/arthurk.richards/Downloads/Bank Customer Churn Prediction.csv\")"
   ]
  },
  {
   "cell_type": "code",
   "execution_count": 15,
   "id": "58d229b7-f5f5-4c6f-96f5-0971af1375e5",
   "metadata": {},
   "outputs": [],
   "source": [
    "#Due to it being a Kaggle Dataset, there is very little cleaning for the column names needed. Generally I would place all the strings in lowercase and add _ \n"
   ]
  },
  {
   "cell_type": "code",
   "execution_count": 16,
   "id": "9488aa64-cb10-4313-87f7-dd205f4542a4",
   "metadata": {},
   "outputs": [
    {
     "data": {
      "text/html": [
       "<div>\n",
       "<style scoped>\n",
       "    .dataframe tbody tr th:only-of-type {\n",
       "        vertical-align: middle;\n",
       "    }\n",
       "\n",
       "    .dataframe tbody tr th {\n",
       "        vertical-align: top;\n",
       "    }\n",
       "\n",
       "    .dataframe thead th {\n",
       "        text-align: right;\n",
       "    }\n",
       "</style>\n",
       "<table border=\"1\" class=\"dataframe\">\n",
       "  <thead>\n",
       "    <tr style=\"text-align: right;\">\n",
       "      <th></th>\n",
       "      <th>0</th>\n",
       "      <th>1</th>\n",
       "      <th>2</th>\n",
       "      <th>3</th>\n",
       "      <th>4</th>\n",
       "    </tr>\n",
       "  </thead>\n",
       "  <tbody>\n",
       "    <tr>\n",
       "      <th>customer_id</th>\n",
       "      <td>15634602</td>\n",
       "      <td>15647311</td>\n",
       "      <td>15619304</td>\n",
       "      <td>15701354</td>\n",
       "      <td>15737888</td>\n",
       "    </tr>\n",
       "    <tr>\n",
       "      <th>credit_score</th>\n",
       "      <td>619</td>\n",
       "      <td>608</td>\n",
       "      <td>502</td>\n",
       "      <td>699</td>\n",
       "      <td>850</td>\n",
       "    </tr>\n",
       "    <tr>\n",
       "      <th>country</th>\n",
       "      <td>France</td>\n",
       "      <td>Spain</td>\n",
       "      <td>France</td>\n",
       "      <td>France</td>\n",
       "      <td>Spain</td>\n",
       "    </tr>\n",
       "    <tr>\n",
       "      <th>gender</th>\n",
       "      <td>Female</td>\n",
       "      <td>Female</td>\n",
       "      <td>Female</td>\n",
       "      <td>Female</td>\n",
       "      <td>Female</td>\n",
       "    </tr>\n",
       "    <tr>\n",
       "      <th>age</th>\n",
       "      <td>42</td>\n",
       "      <td>41</td>\n",
       "      <td>42</td>\n",
       "      <td>39</td>\n",
       "      <td>43</td>\n",
       "    </tr>\n",
       "    <tr>\n",
       "      <th>tenure</th>\n",
       "      <td>2</td>\n",
       "      <td>1</td>\n",
       "      <td>8</td>\n",
       "      <td>1</td>\n",
       "      <td>2</td>\n",
       "    </tr>\n",
       "    <tr>\n",
       "      <th>balance</th>\n",
       "      <td>0.0</td>\n",
       "      <td>83807.86</td>\n",
       "      <td>159660.8</td>\n",
       "      <td>0.0</td>\n",
       "      <td>125510.82</td>\n",
       "    </tr>\n",
       "    <tr>\n",
       "      <th>products_number</th>\n",
       "      <td>1</td>\n",
       "      <td>1</td>\n",
       "      <td>3</td>\n",
       "      <td>2</td>\n",
       "      <td>1</td>\n",
       "    </tr>\n",
       "    <tr>\n",
       "      <th>credit_card</th>\n",
       "      <td>1</td>\n",
       "      <td>0</td>\n",
       "      <td>1</td>\n",
       "      <td>0</td>\n",
       "      <td>1</td>\n",
       "    </tr>\n",
       "    <tr>\n",
       "      <th>active_member</th>\n",
       "      <td>1</td>\n",
       "      <td>1</td>\n",
       "      <td>0</td>\n",
       "      <td>0</td>\n",
       "      <td>1</td>\n",
       "    </tr>\n",
       "    <tr>\n",
       "      <th>estimated_salary</th>\n",
       "      <td>101348.88</td>\n",
       "      <td>112542.58</td>\n",
       "      <td>113931.57</td>\n",
       "      <td>93826.63</td>\n",
       "      <td>79084.1</td>\n",
       "    </tr>\n",
       "    <tr>\n",
       "      <th>churn</th>\n",
       "      <td>1</td>\n",
       "      <td>0</td>\n",
       "      <td>1</td>\n",
       "      <td>0</td>\n",
       "      <td>0</td>\n",
       "    </tr>\n",
       "  </tbody>\n",
       "</table>\n",
       "</div>"
      ],
      "text/plain": [
       "                          0          1          2         3          4\n",
       "customer_id        15634602   15647311   15619304  15701354   15737888\n",
       "credit_score            619        608        502       699        850\n",
       "country              France      Spain     France    France      Spain\n",
       "gender               Female     Female     Female    Female     Female\n",
       "age                      42         41         42        39         43\n",
       "tenure                    2          1          8         1          2\n",
       "balance                 0.0   83807.86   159660.8       0.0  125510.82\n",
       "products_number           1          1          3         2          1\n",
       "credit_card               1          0          1         0          1\n",
       "active_member             1          1          0         0          1\n",
       "estimated_salary  101348.88  112542.58  113931.57  93826.63    79084.1\n",
       "churn                     1          0          1         0          0"
      ]
     },
     "execution_count": 16,
     "metadata": {},
     "output_type": "execute_result"
    }
   ],
   "source": [
    "df_churn.head().T"
   ]
  },
  {
   "cell_type": "code",
   "execution_count": 17,
   "id": "ab5fc573-1800-4e7b-b4b2-f9c9af574a5b",
   "metadata": {},
   "outputs": [
    {
     "data": {
      "text/plain": [
       "850"
      ]
     },
     "execution_count": 17,
     "metadata": {},
     "output_type": "execute_result"
    }
   ],
   "source": [
    "df_churn.credit_score.max()"
   ]
  },
  {
   "cell_type": "code",
   "execution_count": 18,
   "id": "f08c795b-26df-46bc-892a-230fe8d18aaa",
   "metadata": {},
   "outputs": [
    {
     "data": {
      "text/plain": [
       "350"
      ]
     },
     "execution_count": 18,
     "metadata": {},
     "output_type": "execute_result"
    }
   ],
   "source": [
    "df_churn.credit_score.min()"
   ]
  },
  {
   "cell_type": "code",
   "execution_count": 19,
   "id": "a9809119-2115-42a4-9b4a-649fc0de2f03",
   "metadata": {},
   "outputs": [
    {
     "data": {
      "text/plain": [
       "customer_id           int64\n",
       "credit_score          int64\n",
       "country              object\n",
       "gender               object\n",
       "age                   int64\n",
       "tenure                int64\n",
       "balance             float64\n",
       "products_number       int64\n",
       "credit_card           int64\n",
       "active_member         int64\n",
       "estimated_salary    float64\n",
       "churn                 int64\n",
       "dtype: object"
      ]
     },
     "execution_count": 19,
     "metadata": {},
     "output_type": "execute_result"
    }
   ],
   "source": [
    "df_churn.dtypes"
   ]
  },
  {
   "cell_type": "code",
   "execution_count": 21,
   "id": "246dbe4a-2f26-482b-8c8c-2ef34ac6d639",
   "metadata": {},
   "outputs": [
    {
     "data": {
      "text/plain": [
       "customer_id         0\n",
       "credit_score        0\n",
       "country             0\n",
       "gender              0\n",
       "age                 0\n",
       "tenure              0\n",
       "balance             0\n",
       "products_number     0\n",
       "credit_card         0\n",
       "active_member       0\n",
       "estimated_salary    0\n",
       "churn               0\n",
       "dtype: int64"
      ]
     },
     "execution_count": 21,
     "metadata": {},
     "output_type": "execute_result"
    }
   ],
   "source": [
    "df_churn.isnull().sum()"
   ]
  },
  {
   "cell_type": "code",
   "execution_count": 26,
   "id": "1c462130-7e9c-4c0f-a6e5-ad858d4a5c99",
   "metadata": {},
   "outputs": [
    {
     "data": {
      "text/plain": [
       "10000"
      ]
     },
     "execution_count": 26,
     "metadata": {},
     "output_type": "execute_result"
    }
   ],
   "source": [
    "len(df_churn)"
   ]
  },
  {
   "cell_type": "code",
   "execution_count": 23,
   "id": "f69492de-399b-49b2-8d54-e961f845e785",
   "metadata": {},
   "outputs": [],
   "source": [
    "from sklearn.model_selection import train_test_split"
   ]
  },
  {
   "cell_type": "code",
   "execution_count": 24,
   "id": "877fd183-1b27-4b6d-a625-fe5d4ff10a44",
   "metadata": {},
   "outputs": [],
   "source": [
    "df_full_train, df_test =train_test_split(df_churn,test_size=0.2,random_state=1)"
   ]
  },
  {
   "cell_type": "code",
   "execution_count": 25,
   "id": "6ec6b85f-b09b-45e9-9210-d80e1a65a74b",
   "metadata": {},
   "outputs": [
    {
     "data": {
      "text/plain": [
       "(8000, 2000)"
      ]
     },
     "execution_count": 25,
     "metadata": {},
     "output_type": "execute_result"
    }
   ],
   "source": [
    "len(df_full_train), len(df_test)"
   ]
  },
  {
   "cell_type": "code",
   "execution_count": 27,
   "id": "d3dee6ea-d865-410e-8c76-a4ac7ed4d81f",
   "metadata": {},
   "outputs": [],
   "source": [
    "#In order to make sure we have the appropriate numbers, we now calculate how much 20% (the val_test) is of 80% (full train) which gives us 1/4 or 25%"
   ]
  },
  {
   "cell_type": "code",
   "execution_count": 28,
   "id": "f6806e7f-633f-4435-a214-32724a290082",
   "metadata": {},
   "outputs": [],
   "source": [
    "df_train, df_val = train_test_split(df_full_train,test_size=0.25,random_state=1)"
   ]
  },
  {
   "cell_type": "code",
   "execution_count": 29,
   "id": "691ab9fc-3e21-4c0f-9c71-70c590f32f7c",
   "metadata": {},
   "outputs": [
    {
     "data": {
      "text/plain": [
       "(6000, 2000, 2000)"
      ]
     },
     "execution_count": 29,
     "metadata": {},
     "output_type": "execute_result"
    }
   ],
   "source": [
    "len(df_train),len(df_val),len(df_test)"
   ]
  },
  {
   "cell_type": "code",
   "execution_count": 30,
   "id": "c43076b2-30d8-455a-94ab-db1583b4d297",
   "metadata": {},
   "outputs": [
    {
     "data": {
      "text/html": [
       "<div>\n",
       "<style scoped>\n",
       "    .dataframe tbody tr th:only-of-type {\n",
       "        vertical-align: middle;\n",
       "    }\n",
       "\n",
       "    .dataframe tbody tr th {\n",
       "        vertical-align: top;\n",
       "    }\n",
       "\n",
       "    .dataframe thead th {\n",
       "        text-align: right;\n",
       "    }\n",
       "</style>\n",
       "<table border=\"1\" class=\"dataframe\">\n",
       "  <thead>\n",
       "    <tr style=\"text-align: right;\">\n",
       "      <th></th>\n",
       "      <th>customer_id</th>\n",
       "      <th>credit_score</th>\n",
       "      <th>country</th>\n",
       "      <th>gender</th>\n",
       "      <th>age</th>\n",
       "      <th>tenure</th>\n",
       "      <th>balance</th>\n",
       "      <th>products_number</th>\n",
       "      <th>credit_card</th>\n",
       "      <th>active_member</th>\n",
       "      <th>estimated_salary</th>\n",
       "      <th>churn</th>\n",
       "    </tr>\n",
       "  </thead>\n",
       "  <tbody>\n",
       "    <tr>\n",
       "      <th>4495</th>\n",
       "      <td>15657317</td>\n",
       "      <td>789</td>\n",
       "      <td>France</td>\n",
       "      <td>Female</td>\n",
       "      <td>32</td>\n",
       "      <td>7</td>\n",
       "      <td>69423.52</td>\n",
       "      <td>1</td>\n",
       "      <td>1</td>\n",
       "      <td>0</td>\n",
       "      <td>107499.39</td>\n",
       "      <td>0</td>\n",
       "    </tr>\n",
       "    <tr>\n",
       "      <th>6470</th>\n",
       "      <td>15616630</td>\n",
       "      <td>583</td>\n",
       "      <td>Germany</td>\n",
       "      <td>Female</td>\n",
       "      <td>41</td>\n",
       "      <td>5</td>\n",
       "      <td>77647.60</td>\n",
       "      <td>1</td>\n",
       "      <td>1</td>\n",
       "      <td>0</td>\n",
       "      <td>190429.52</td>\n",
       "      <td>0</td>\n",
       "    </tr>\n",
       "    <tr>\n",
       "      <th>2221</th>\n",
       "      <td>15736069</td>\n",
       "      <td>767</td>\n",
       "      <td>Germany</td>\n",
       "      <td>Female</td>\n",
       "      <td>35</td>\n",
       "      <td>6</td>\n",
       "      <td>132253.22</td>\n",
       "      <td>1</td>\n",
       "      <td>1</td>\n",
       "      <td>0</td>\n",
       "      <td>115566.57</td>\n",
       "      <td>1</td>\n",
       "    </tr>\n",
       "    <tr>\n",
       "      <th>7686</th>\n",
       "      <td>15675450</td>\n",
       "      <td>718</td>\n",
       "      <td>France</td>\n",
       "      <td>Male</td>\n",
       "      <td>48</td>\n",
       "      <td>9</td>\n",
       "      <td>0.00</td>\n",
       "      <td>2</td>\n",
       "      <td>1</td>\n",
       "      <td>1</td>\n",
       "      <td>72105.63</td>\n",
       "      <td>0</td>\n",
       "    </tr>\n",
       "    <tr>\n",
       "      <th>9419</th>\n",
       "      <td>15798605</td>\n",
       "      <td>686</td>\n",
       "      <td>Germany</td>\n",
       "      <td>Male</td>\n",
       "      <td>26</td>\n",
       "      <td>1</td>\n",
       "      <td>57422.62</td>\n",
       "      <td>1</td>\n",
       "      <td>1</td>\n",
       "      <td>1</td>\n",
       "      <td>79189.40</td>\n",
       "      <td>0</td>\n",
       "    </tr>\n",
       "  </tbody>\n",
       "</table>\n",
       "</div>"
      ],
      "text/plain": [
       "      customer_id  credit_score  country  gender  age  tenure    balance  \\\n",
       "4495     15657317           789   France  Female   32       7   69423.52   \n",
       "6470     15616630           583  Germany  Female   41       5   77647.60   \n",
       "2221     15736069           767  Germany  Female   35       6  132253.22   \n",
       "7686     15675450           718   France    Male   48       9       0.00   \n",
       "9419     15798605           686  Germany    Male   26       1   57422.62   \n",
       "\n",
       "      products_number  credit_card  active_member  estimated_salary  churn  \n",
       "4495                1            1              0         107499.39      0  \n",
       "6470                1            1              0         190429.52      0  \n",
       "2221                1            1              0         115566.57      1  \n",
       "7686                2            1              1          72105.63      0  \n",
       "9419                1            1              1          79189.40      0  "
      ]
     },
     "execution_count": 30,
     "metadata": {},
     "output_type": "execute_result"
    }
   ],
   "source": [
    "df_train.head()"
   ]
  },
  {
   "cell_type": "code",
   "execution_count": null,
   "id": "aacd0ea4-bb21-4e1d-bf0c-5e72c24d11a4",
   "metadata": {},
   "outputs": [],
   "source": [
    "#Now I need to reset index in order to remove the new initial column and to begin with the customer_id"
   ]
  },
  {
   "cell_type": "code",
   "execution_count": null,
   "id": "4bd6cb56-4544-4915-8958-633caba64b75",
   "metadata": {},
   "outputs": [],
   "source": []
  }
 ],
 "metadata": {
  "kernelspec": {
   "display_name": "Python 3 (ipykernel)",
   "language": "python",
   "name": "python3"
  },
  "language_info": {
   "codemirror_mode": {
    "name": "ipython",
    "version": 3
   },
   "file_extension": ".py",
   "mimetype": "text/x-python",
   "name": "python",
   "nbconvert_exporter": "python",
   "pygments_lexer": "ipython3",
   "version": "3.10.9"
  },
  "widgets": {
   "application/vnd.jupyter.widget-state+json": {
    "state": {},
    "version_major": 2,
    "version_minor": 0
   }
  }
 },
 "nbformat": 4,
 "nbformat_minor": 5
}
